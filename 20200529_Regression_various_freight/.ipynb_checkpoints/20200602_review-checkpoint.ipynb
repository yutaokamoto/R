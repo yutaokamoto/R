{
 "cells": [
  {
   "cell_type": "code",
   "execution_count": 34,
   "metadata": {},
   "outputs": [],
   "source": [
    "set.seed(1234)"
   ]
  },
  {
   "cell_type": "code",
   "execution_count": 35,
   "metadata": {},
   "outputs": [],
   "source": [
    "a <- 1; b <- 15; c <- 10"
   ]
  },
  {
   "cell_type": "code",
   "execution_count": 36,
   "metadata": {},
   "outputs": [
    {
     "data": {
      "text/html": [
       "<style>\n",
       ".list-inline {list-style: none; margin:0; padding: 0}\n",
       ".list-inline>li {display: inline-block}\n",
       ".list-inline>li:not(:last-child)::after {content: \"\\00b7\"; padding: 0 .5ex}\n",
       "</style>\n",
       "<ol class=list-inline><li>1</li><li>2</li><li>3</li><li>4</li><li>5</li><li>6</li><li>7</li><li>8</li><li>9</li><li>10</li><li>11</li><li>12</li><li>13</li><li>14</li><li>15</li><li>16</li><li>17</li><li>18</li><li>19</li><li>20</li></ol>\n"
      ],
      "text/latex": [
       "\\begin{enumerate*}\n",
       "\\item 1\n",
       "\\item 2\n",
       "\\item 3\n",
       "\\item 4\n",
       "\\item 5\n",
       "\\item 6\n",
       "\\item 7\n",
       "\\item 8\n",
       "\\item 9\n",
       "\\item 10\n",
       "\\item 11\n",
       "\\item 12\n",
       "\\item 13\n",
       "\\item 14\n",
       "\\item 15\n",
       "\\item 16\n",
       "\\item 17\n",
       "\\item 18\n",
       "\\item 19\n",
       "\\item 20\n",
       "\\end{enumerate*}\n"
      ],
      "text/markdown": [
       "1. 1\n",
       "2. 2\n",
       "3. 3\n",
       "4. 4\n",
       "5. 5\n",
       "6. 6\n",
       "7. 7\n",
       "8. 8\n",
       "9. 9\n",
       "10. 10\n",
       "11. 11\n",
       "12. 12\n",
       "13. 13\n",
       "14. 14\n",
       "15. 15\n",
       "16. 16\n",
       "17. 17\n",
       "18. 18\n",
       "19. 19\n",
       "20. 20\n",
       "\n",
       "\n"
      ],
      "text/plain": [
       " [1]  1  2  3  4  5  6  7  8  9 10 11 12 13 14 15 16 17 18 19 20"
      ]
     },
     "metadata": {},
     "output_type": "display_data"
    }
   ],
   "source": [
    "t <- seq(1,20)\n",
    "t"
   ]
  },
  {
   "cell_type": "code",
   "execution_count": 37,
   "metadata": {},
   "outputs": [
    {
     "data": {
      "text/html": [
       "<style>\n",
       ".list-inline {list-style: none; margin:0; padding: 0}\n",
       ".list-inline>li {display: inline-block}\n",
       ".list-inline>li:not(:last-child)::after {content: \"\\00b7\"; padding: 0 .5ex}\n",
       "</style>\n",
       "<ol class=list-inline><li>-0.60353287469271</li><li>0.13871462105533</li><li>0.542220588341528</li><li>-1.17284885131467</li><li>0.214562344405525</li><li>0.253027946078787</li><li>-0.287369980067324</li><li>-0.273315927892094</li><li>-0.282225999546642</li><li>-0.445018914522052</li><li>-0.238596349876774</li><li>-0.499193222429852</li><li>-0.388126947318995</li><li>0.0322294086381347</li><li>0.479747029485386</li><li>-0.0551427471953871</li><li>-0.255504752903321</li><li>-0.455597708314906</li><li>-0.41858584013447</li><li>1.20791758924467</li></ol>\n"
      ],
      "text/latex": [
       "\\begin{enumerate*}\n",
       "\\item -0.60353287469271\n",
       "\\item 0.13871462105533\n",
       "\\item 0.542220588341528\n",
       "\\item -1.17284885131467\n",
       "\\item 0.214562344405525\n",
       "\\item 0.253027946078787\n",
       "\\item -0.287369980067324\n",
       "\\item -0.273315927892094\n",
       "\\item -0.282225999546642\n",
       "\\item -0.445018914522052\n",
       "\\item -0.238596349876774\n",
       "\\item -0.499193222429852\n",
       "\\item -0.388126947318995\n",
       "\\item 0.0322294086381347\n",
       "\\item 0.479747029485386\n",
       "\\item -0.0551427471953871\n",
       "\\item -0.255504752903321\n",
       "\\item -0.455597708314906\n",
       "\\item -0.41858584013447\n",
       "\\item 1.20791758924467\n",
       "\\end{enumerate*}\n"
      ],
      "text/markdown": [
       "1. -0.60353287469271\n",
       "2. 0.13871462105533\n",
       "3. 0.542220588341528\n",
       "4. -1.17284885131467\n",
       "5. 0.214562344405525\n",
       "6. 0.253027946078787\n",
       "7. -0.287369980067324\n",
       "8. -0.273315927892094\n",
       "9. -0.282225999546642\n",
       "10. -0.445018914522052\n",
       "11. -0.238596349876774\n",
       "12. -0.499193222429852\n",
       "13. -0.388126947318995\n",
       "14. 0.0322294086381347\n",
       "15. 0.479747029485386\n",
       "16. -0.0551427471953871\n",
       "17. -0.255504752903321\n",
       "18. -0.455597708314906\n",
       "19. -0.41858584013447\n",
       "20. 1.20791758924467\n",
       "\n",
       "\n"
      ],
      "text/plain": [
       " [1] -0.60353287  0.13871462  0.54222059 -1.17284885  0.21456234  0.25302795\n",
       " [7] -0.28736998 -0.27331593 -0.28222600 -0.44501891 -0.23859635 -0.49919322\n",
       "[13] -0.38812695  0.03222941  0.47974703 -0.05514275 -0.25550475 -0.45559771\n",
       "[19] -0.41858584  1.20791759"
      ]
     },
     "metadata": {},
     "output_type": "display_data"
    }
   ],
   "source": [
    "#標準正規分布に従うような数を引数n個分生成する\n",
    "e <- rnorm(20)/2\n",
    "e"
   ]
  },
  {
   "cell_type": "code",
   "execution_count": 38,
   "metadata": {},
   "outputs": [
    {
     "data": {
      "text/html": [
       "<style>\n",
       ".list-inline {list-style: none; margin:0; padding: 0}\n",
       ".list-inline>li {display: inline-block}\n",
       ".list-inline>li:not(:last-child)::after {content: \"\\00b7\"; padding: 0 .5ex}\n",
       "</style>\n",
       "<ol class=list-inline><li>9.39646712530729</li><li>10.1387146210553</li><li>10.5422205883415</li><li>8.82715114868533</li><li>10.2145623444055</li><li>10.2530279460788</li><li>9.71263001993267</li><li>9.72668407210791</li><li>9.71777400045336</li><li>9.55498108547795</li><li>9.76140365012323</li><li>9.50080677757015</li><li>9.61187305268101</li><li>10.0322294086381</li><li>10.4797470294854</li><li>9.94485725280461</li><li>9.74449524709668</li><li>9.54440229168509</li><li>9.58141415986553</li><li>11.2079175892447</li></ol>\n"
      ],
      "text/latex": [
       "\\begin{enumerate*}\n",
       "\\item 9.39646712530729\n",
       "\\item 10.1387146210553\n",
       "\\item 10.5422205883415\n",
       "\\item 8.82715114868533\n",
       "\\item 10.2145623444055\n",
       "\\item 10.2530279460788\n",
       "\\item 9.71263001993267\n",
       "\\item 9.72668407210791\n",
       "\\item 9.71777400045336\n",
       "\\item 9.55498108547795\n",
       "\\item 9.76140365012323\n",
       "\\item 9.50080677757015\n",
       "\\item 9.61187305268101\n",
       "\\item 10.0322294086381\n",
       "\\item 10.4797470294854\n",
       "\\item 9.94485725280461\n",
       "\\item 9.74449524709668\n",
       "\\item 9.54440229168509\n",
       "\\item 9.58141415986553\n",
       "\\item 11.2079175892447\n",
       "\\end{enumerate*}\n"
      ],
      "text/markdown": [
       "1. 9.39646712530729\n",
       "2. 10.1387146210553\n",
       "3. 10.5422205883415\n",
       "4. 8.82715114868533\n",
       "5. 10.2145623444055\n",
       "6. 10.2530279460788\n",
       "7. 9.71263001993267\n",
       "8. 9.72668407210791\n",
       "9. 9.71777400045336\n",
       "10. 9.55498108547795\n",
       "11. 9.76140365012323\n",
       "12. 9.50080677757015\n",
       "13. 9.61187305268101\n",
       "14. 10.0322294086381\n",
       "15. 10.4797470294854\n",
       "16. 9.94485725280461\n",
       "17. 9.74449524709668\n",
       "18. 9.54440229168509\n",
       "19. 9.58141415986553\n",
       "20. 11.2079175892447\n",
       "\n",
       "\n"
      ],
      "text/plain": [
       " [1]  9.396467 10.138715 10.542221  8.827151 10.214562 10.253028  9.712630\n",
       " [8]  9.726684  9.717774  9.554981  9.761404  9.500807  9.611873 10.032229\n",
       "[15] 10.479747  9.944857  9.744495  9.544402  9.581414 11.207918"
      ]
     },
     "metadata": {},
     "output_type": "display_data"
    }
   ],
   "source": [
    "#numpyのブロードキャスト的な\n",
    "c+e"
   ]
  },
  {
   "cell_type": "code",
   "execution_count": 39,
   "metadata": {},
   "outputs": [
    {
     "data": {
      "image/png": "[encoded data removed]",
      "text/plain": [
       "plot without title"
      ]
     },
     "metadata": {
      "image/png": {
       "height": 420,
       "width": 420
      },
      "text/plain": {
       "height": 420,
       "width": 420
      }
     },
     "output_type": "display_data"
    }
   ],
   "source": [
    "#Original equation\n",
    "y <- c/(1+exp(-a*t+b)) + e + 2\n",
    "plot(t, y)"
   ]
  },
  {
   "cell_type": "markdown",
   "metadata": {},
   "source": [
    "# 反復する方法で予測を行う"
   ]
  },
  {
   "cell_type": "code",
   "execution_count": 21,
   "metadata": {
    "scrolled": true
   },
   "outputs": [
    {
     "name": "stdout",
     "output_type": "stream",
     "text": [
      "c value= 14 \n",
      "              Estimate Std. Error   t value     Pr(>|t|)\n",
      "(Intercept)  3.2137817 0.38834623  8.275558 1.507965e-07\n",
      "t           -0.2220355 0.03241852 -6.849034 2.077257e-06\n",
      "[1] 0.7072837\n",
      "c value= 15 \n",
      "              Estimate Std. Error   t value     Pr(>|t|)\n",
      "(Intercept)  3.1734396 0.34736766  9.135679 3.522750e-08\n",
      "t           -0.2033486 0.02899769 -7.012580 1.516589e-06\n",
      "[1] 0.7171621\n",
      "c value= 16 \n",
      "              Estimate Std. Error   t value     Pr(>|t|)\n",
      "(Intercept)  3.1749288 0.32538082  9.757578 1.301164e-08\n",
      "t           -0.1918618 0.02716227 -7.063542 1.376001e-06\n",
      "[1] 0.7201504\n",
      "c value= 17 \n",
      "             Estimate Std. Error   t value     Pr(>|t|)\n",
      "(Intercept)  3.192506 0.31054888 10.280203 5.827375e-09\n",
      "t           -0.183646 0.02592412 -7.083982 1.323474e-06\n",
      "[1] 0.7213374\n",
      "c value= 18 \n",
      "              Estimate Std. Error   t value     Pr(>|t|)\n",
      "(Intercept)  3.2179165 0.29955342 10.742379 2.934325e-09\n",
      "t           -0.1773532 0.02500624 -7.092359 1.302555e-06\n",
      "[1] 0.7218218\n",
      "c value= 19 \n",
      "              Estimate Std. Error   t value     Pr(>|t|)\n",
      "(Intercept)  3.2474463 0.29095699 11.161259 1.605428e-09\n",
      "t           -0.1723296 0.02428862 -7.095078 1.295838e-06\n",
      "[1] 0.7219789\n",
      "c value= 20 \n",
      "              Estimate Std. Error   t value     Pr(>|t|)\n",
      "(Intercept)  3.2791486 0.28399761 11.546395 9.360352e-10\n",
      "t           -0.1682033 0.02370766 -7.094894 1.296291e-06\n",
      "[1] 0.7219682\n",
      "c value= 21 \n",
      "              Estimate Std. Error   t value     Pr(>|t|)\n",
      "(Intercept)  3.3119126 0.27822075 11.903902 5.743270e-10\n",
      "t           -0.1647414 0.02322542 -7.093151 1.300593e-06\n",
      "[1] 0.7218676\n",
      "c value= 22 \n",
      "              Estimate Std. Error   t value     Pr(>|t|)\n",
      "(Intercept)  3.3450708 0.27333329 12.238066 3.675885e-10\n",
      "t           -0.1617884 0.02281742 -7.090564 1.307007e-06\n",
      "[1] 0.7217182\n",
      "c value= 23 \n",
      "              Estimate Std. Error   t value     Pr(>|t|)\n",
      "(Intercept)  3.3782088 0.26913546 12.552076 2.438136e-10\n",
      "t           -0.1592356 0.02246699 -7.087534 1.314563e-06\n",
      "[1] 0.7215429\n",
      "c value= 24 \n",
      "              Estimate Std. Error   t value     Pr(>|t|)\n",
      "(Intercept)  3.4110649 0.26548528 12.848415 1.667460e-10\n",
      "t           -0.1570041 0.02216228 -7.084293 1.322693e-06\n",
      "[1] 0.7213553\n"
     ]
    }
   ],
   "source": [
    "for(n in 0:10){\n",
    "    c <- ceiling(max(y)) + n\n",
    "    yy <- log((c-y)/y)\n",
    "    res <- lm(yy~t)\n",
    "    cat(\"c value=\", c, \"\\n\") \n",
    "    print(summary(res)$coefficients)\n",
    "    print(summary(res)$adj.r.squared)\n",
    "    }"
   ]
  },
  {
   "cell_type": "code",
   "execution_count": 22,
   "metadata": {},
   "outputs": [
    {
     "data": {
      "text/plain": [
       "\n",
       "Call:\n",
       "lm(formula = yy ~ t)\n",
       "\n",
       "Coefficients:\n",
       "(Intercept)            t  \n",
       "      3.411       -0.157  \n"
      ]
     },
     "metadata": {},
     "output_type": "display_data"
    }
   ],
   "source": [
    "res"
   ]
  },
  {
   "cell_type": "code",
   "execution_count": 23,
   "metadata": {},
   "outputs": [
    {
     "data": {
      "text/plain": [
       "\n",
       "Call:\n",
       "lm(formula = yy ~ t)\n",
       "\n",
       "Residuals:\n",
       "    Min      1Q  Median      3Q     Max \n",
       "-0.8070 -0.4404 -0.2330  0.5494  0.8846 \n",
       "\n",
       "Coefficients:\n",
       "            Estimate Std. Error t value Pr(>|t|)    \n",
       "(Intercept)  3.41106    0.26549  12.848 1.67e-10 ***\n",
       "t           -0.15700    0.02216  -7.084 1.32e-06 ***\n",
       "---\n",
       "Signif. codes:  0 ‘***’ 0.001 ‘**’ 0.01 ‘*’ 0.05 ‘.’ 0.1 ‘ ’ 1\n",
       "\n",
       "Residual standard error: 0.5715 on 18 degrees of freedom\n",
       "Multiple R-squared:  0.736,\tAdjusted R-squared:  0.7214 \n",
       "F-statistic: 50.19 on 1 and 18 DF,  p-value: 1.323e-06\n"
      ]
     },
     "metadata": {},
     "output_type": "display_data"
    }
   ],
   "source": [
    "summary(res)\n",
    "#Residuals : 残差ε\n",
    "#Coefficients : 係数\n",
    "##SE, Std. Error : 標準誤差σ/√n．　母集団からある数の標本を選ぶとき，　\n",
    "#                                             選ぶ際の組み合わせによって統計量がどの程度ばらつくか全ての組み合わせについての標準偏差で表したもの\n",
    "#                                             標本から得られる推定量のばらつき．　一般的に標本平均の標準偏差を表す→中心極限定理よりσ/√n = √(σ^2/n)"
   ]
  },
  {
   "cell_type": "markdown",
   "metadata": {},
   "source": [
    "# 直接予測する(反復する方法を使わない)"
   ]
  },
  {
   "cell_type": "code",
   "execution_count": 29,
   "metadata": {
    "scrolled": true
   },
   "outputs": [
    {
     "data": {
      "text/html": [
       "<table>\n",
       "<caption>A matrix: 20 × 2 of type dbl</caption>\n",
       "<thead>\n",
       "\t<tr><th scope=col>t</th><th scope=col>y</th></tr>\n",
       "</thead>\n",
       "<tbody>\n",
       "\t<tr><td> 1</td><td> 1.3964754</td></tr>\n",
       "\t<tr><td> 2</td><td> 2.1387372</td></tr>\n",
       "\t<tr><td> 3</td><td> 2.5422820</td></tr>\n",
       "\t<tr><td> 4</td><td> 0.8273182</td></tr>\n",
       "\t<tr><td> 5</td><td> 2.2150163</td></tr>\n",
       "\t<tr><td> 6</td><td> 2.2542619</td></tr>\n",
       "\t<tr><td> 7</td><td> 1.7159835</td></tr>\n",
       "\t<tr><td> 8</td><td> 1.7357946</td></tr>\n",
       "\t<tr><td> 9</td><td> 1.7425002</td></tr>\n",
       "\t<tr><td>10</td><td> 1.6219096</td></tr>\n",
       "\t<tr><td>11</td><td> 1.9412657</td></tr>\n",
       "\t<tr><td>12</td><td> 1.9750655</td></tr>\n",
       "\t<tr><td>13</td><td> 2.8039023</td></tr>\n",
       "\t<tr><td>14</td><td> 4.7216436</td></tr>\n",
       "\t<tr><td>15</td><td> 7.4797470</td></tr>\n",
       "\t<tr><td>16</td><td> 9.2554430</td></tr>\n",
       "\t<tr><td>17</td><td>10.5524660</td></tr>\n",
       "\t<tr><td>18</td><td>11.0701436</td></tr>\n",
       "\t<tr><td>19</td><td>11.4015521</td></tr>\n",
       "\t<tr><td>20</td><td>13.1409891</td></tr>\n",
       "</tbody>\n",
       "</table>\n"
      ],
      "text/latex": [
       "A matrix: 20 × 2 of type dbl\n",
       "\\begin{tabular}{ll}\n",
       " t & y\\\\\n",
       "\\hline\n",
       "\t  1 &  1.3964754\\\\\n",
       "\t  2 &  2.1387372\\\\\n",
       "\t  3 &  2.5422820\\\\\n",
       "\t  4 &  0.8273182\\\\\n",
       "\t  5 &  2.2150163\\\\\n",
       "\t  6 &  2.2542619\\\\\n",
       "\t  7 &  1.7159835\\\\\n",
       "\t  8 &  1.7357946\\\\\n",
       "\t  9 &  1.7425002\\\\\n",
       "\t 10 &  1.6219096\\\\\n",
       "\t 11 &  1.9412657\\\\\n",
       "\t 12 &  1.9750655\\\\\n",
       "\t 13 &  2.8039023\\\\\n",
       "\t 14 &  4.7216436\\\\\n",
       "\t 15 &  7.4797470\\\\\n",
       "\t 16 &  9.2554430\\\\\n",
       "\t 17 & 10.5524660\\\\\n",
       "\t 18 & 11.0701436\\\\\n",
       "\t 19 & 11.4015521\\\\\n",
       "\t 20 & 13.1409891\\\\\n",
       "\\end{tabular}\n"
      ],
      "text/markdown": [
       "\n",
       "A matrix: 20 × 2 of type dbl\n",
       "\n",
       "| t | y |\n",
       "|---|---|\n",
       "|  1 |  1.3964754 |\n",
       "|  2 |  2.1387372 |\n",
       "|  3 |  2.5422820 |\n",
       "|  4 |  0.8273182 |\n",
       "|  5 |  2.2150163 |\n",
       "|  6 |  2.2542619 |\n",
       "|  7 |  1.7159835 |\n",
       "|  8 |  1.7357946 |\n",
       "|  9 |  1.7425002 |\n",
       "| 10 |  1.6219096 |\n",
       "| 11 |  1.9412657 |\n",
       "| 12 |  1.9750655 |\n",
       "| 13 |  2.8039023 |\n",
       "| 14 |  4.7216436 |\n",
       "| 15 |  7.4797470 |\n",
       "| 16 |  9.2554430 |\n",
       "| 17 | 10.5524660 |\n",
       "| 18 | 11.0701436 |\n",
       "| 19 | 11.4015521 |\n",
       "| 20 | 13.1409891 |\n",
       "\n"
      ],
      "text/plain": [
       "      t  y         \n",
       " [1,]  1  1.3964754\n",
       " [2,]  2  2.1387372\n",
       " [3,]  3  2.5422820\n",
       " [4,]  4  0.8273182\n",
       " [5,]  5  2.2150163\n",
       " [6,]  6  2.2542619\n",
       " [7,]  7  1.7159835\n",
       " [8,]  8  1.7357946\n",
       " [9,]  9  1.7425002\n",
       "[10,] 10  1.6219096\n",
       "[11,] 11  1.9412657\n",
       "[12,] 12  1.9750655\n",
       "[13,] 13  2.8039023\n",
       "[14,] 14  4.7216436\n",
       "[15,] 15  7.4797470\n",
       "[16,] 16  9.2554430\n",
       "[17,] 17 10.5524660\n",
       "[18,] 18 11.0701436\n",
       "[19,] 19 11.4015521\n",
       "[20,] 20 13.1409891"
      ]
     },
     "metadata": {},
     "output_type": "display_data"
    }
   ],
   "source": [
    "cbind(t,y)"
   ]
  },
  {
   "cell_type": "code",
   "execution_count": 30,
   "metadata": {},
   "outputs": [],
   "source": [
    "#データフレームとはdata.frame()クラスを持つリスト，　ただし列名と行名を持つ\n",
    "#cbind()は行列の生成を行う関数\n",
    "dat <- data.frame(cbind(t,y))"
   ]
  },
  {
   "cell_type": "code",
   "execution_count": 32,
   "metadata": {},
   "outputs": [
    {
     "data": {
      "text/plain": [
       "\n",
       "Formula: y ~ c/(1 + exp(-a * t + b)) + d\n",
       "\n",
       "Parameters:\n",
       "  Estimate Std. Error t value Pr(>|t|)    \n",
       "a   0.9483     0.1363   6.956 3.23e-06 ***\n",
       "b  14.2049     1.9953   7.119 2.43e-06 ***\n",
       "c  10.3935     0.4490  23.146 9.95e-14 ***\n",
       "d   1.7550     0.1648  10.648 1.14e-08 ***\n",
       "---\n",
       "Signif. codes:  0 ‘***’ 0.001 ‘**’ 0.01 ‘*’ 0.05 ‘.’ 0.1 ‘ ’ 1\n",
       "\n",
       "Residual standard error: 0.5315 on 16 degrees of freedom\n",
       "\n",
       "Number of iterations to convergence: 11 \n",
       "Achieved convergence tolerance: 3.208e-06\n"
      ]
     },
     "metadata": {},
     "output_type": "display_data"
    }
   ],
   "source": [
    "#Nonlinear least squares\n",
    "res.nls <- nls(y~c/(1+exp(-a*t+b))+d, dat, start=list(a=1, b=10, c=10, d=1))\n",
    "summary(res.nls)"
   ]
  },
  {
   "cell_type": "markdown",
   "metadata": {},
   "source": [
    "# 結果 : 最小二乗法を用いた線形回帰を繰り返してパラメータを推定するより，　非線形最小二乗法を用いた方が精度が良い"
   ]
  },
  {
   "cell_type": "code",
   "execution_count": null,
   "metadata": {},
   "outputs": [],
   "source": []
  }
 ],
 "metadata": {
  "kernelspec": {
   "display_name": "R",
   "language": "R",
   "name": "ir"
  },
  "language_info": {
   "codemirror_mode": "r",
   "file_extension": ".r",
   "mimetype": "text/x-r-source",
   "name": "R",
   "pygments_lexer": "r",
   "version": "3.6.3"
  }
 },
 "nbformat": 4,
 "nbformat_minor": 4
}
